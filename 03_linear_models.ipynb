{
 "cells": [
  {
   "cell_type": "code",
   "execution_count": 1,
   "metadata": {},
   "outputs": [],
   "source": [
    "import pandas as pd\n",
    "import numpy as np\n",
    "import statsmodels.api as sm\n",
    "import statsmodels.formula.api as smf\n",
    "import matplotlib.pyplot as plt"
   ]
  },
  {
   "cell_type": "code",
   "execution_count": 2,
   "metadata": {},
   "outputs": [],
   "source": [
    "df = pd.read_parquet(\"./data/cleaned.feather\")"
   ]
  },
  {
   "cell_type": "markdown",
   "metadata": {},
   "source": [
    "### Standard OLS\n",
    "\n",
    "Let's just feed the data to various OLS models. This is a powerful data exploration mechanism since it lets you see the relationship between variables.\n",
    "\n",
    "If you're not familiar with OLS, it's effectively the same idea as drawing the line of \"best fit\" through the scatter plots. What OLS also does is show the interactions betwen varialbes while keeping the rest constant. In other words, if a variable has a strong relationship (correlation) with temperature, it will \"use up\" most of the influence, leaving little for less influential variables. This way, you can spot things that don't seem to affect temperature.\n",
    "\n",
    "Note: it would seem that `usage` doesn't affect temperature a lot. Yet `usage` is a value that goes from 0 to 100, while all other variables are in the 0 to 1 range. The coefficient for `usage` is actually stronger than it seems.\n",
    "\n",
    "You may be familiar with OLS from machine learning, but the dashboard below will be new to you. The dashboard provides lots of diagnostic values for the model.\n",
    "\n",
    "#### Results\n",
    "\n",
    "As expected, intake and exhaust fans are great for reducing temperatures, with intake fans being more effective. They must do this by pushing air straight onto the CPU.\n",
    "\n",
    "Interestingly, the case component with the power and HDMI cable helps dissipate a bit more heat than its counterparts. All of these tests were done with a power and an HDMI cable. From other tests I've done, the HDMI does seem to add heat to the computer, so having the case there may spread some of that HDMI heat away from the CPU. **Interesting!**\n",
    "\n",
    "Have a look at the `std err` (standard error) and `t` (Student t-statistic). The `case_under` and `case_cable` have relatively high errors. This must be an effect of the case dependance: since the bottom and frame are almost always present, the model doesn't have enough data to distinguish them from the reference case (a bare Raspberry Pi board).\n",
    "\n",
    "#### Methods\n",
    "\n",
    "Below we run three different models. Each uses different levels of interaction for the dummies. For example, `usage:top_solid` means multiply the `top_solid` dummy with `usage`. `usage*top_solid` means we get `usage:top_solid` but also keep the regular `top_solid` too."
   ]
  },
  {
   "cell_type": "code",
   "execution_count": 3,
   "metadata": {},
   "outputs": [
    {
     "name": "stdout",
     "output_type": "stream",
     "text": [
      "                            OLS Regression Results                            \n",
      "==============================================================================\n",
      "Dep. Variable:                   temp   R-squared:                       0.879\n",
      "Model:                            OLS   Adj. R-squared:                  0.879\n",
      "Method:                 Least Squares   F-statistic:                 4.951e+04\n",
      "Date:                Mon, 07 Sep 2020   Prob (F-statistic):               0.00\n",
      "Time:                        13:53:37   Log-Likelihood:            -1.6432e+05\n",
      "No. Observations:               61058   AIC:                         3.287e+05\n",
      "Df Residuals:                   61048   BIC:                         3.288e+05\n",
      "Df Model:                           9                                         \n",
      "Covariance Type:            nonrobust                                         \n",
      "===============================================================================\n",
      "                  coef    std err          t      P>|t|      [0.025      0.975]\n",
      "-------------------------------------------------------------------------------\n",
      "Intercept      65.8071      0.063   1049.222      0.000      65.684      65.930\n",
      "usage           0.0615      0.000    149.541      0.000       0.061       0.062\n",
      "case_under      0.6286      0.084      7.473      0.000       0.464       0.793\n",
      "case_frame      0.7365      0.075      9.846      0.000       0.590       0.883\n",
      "case_cable     -0.9833      0.036    -27.190      0.000      -1.054      -0.912\n",
      "case_gpio       2.4387      0.033     72.836      0.000       2.373       2.504\n",
      "top_solid       4.3315      0.055     79.262      0.000       4.224       4.439\n",
      "top_holed       2.1087      0.056     37.944      0.000       2.000       2.218\n",
      "top_intake    -19.5402      0.060   -323.340      0.000     -19.659     -19.422\n",
      "top_exhaust   -13.6484      0.056   -245.543      0.000     -13.757     -13.539\n",
      "==============================================================================\n",
      "Omnibus:                    19120.932   Durbin-Watson:                   0.066\n",
      "Prob(Omnibus):                  0.000   Jarque-Bera (JB):            86514.542\n",
      "Skew:                          -1.472   Prob(JB):                         0.00\n",
      "Kurtosis:                       8.034   Cond. No.                         477.\n",
      "==============================================================================\n",
      "\n",
      "Notes:\n",
      "[1] Standard Errors assume that the covariance matrix of the errors is correctly specified.\n"
     ]
    }
   ],
   "source": [
    "dummy_model = smf.ols(\"temp ~ usage + case_under + case_frame + case_cable + case_gpio + top_solid + top_holed + top_intake + top_exhaust\", data=df).fit()\n",
    "\n",
    "print(dummy_model.summary())"
   ]
  },
  {
   "cell_type": "markdown",
   "metadata": {},
   "source": [
    "#### Plots\n",
    "\n",
    "Let's have a look at the dummy model since it's the simplest.\n",
    "\n",
    "The linear model is a function that accepts values and outputs a predicted temperature value. This predicted temperature value is a predicted mean value, not a single point value. You can see this by looking at the standard errors and confidence intervals above."
   ]
  },
  {
   "cell_type": "code",
   "execution_count": 4,
   "metadata": {},
   "outputs": [
    {
     "data": {
      "text/plain": [
       "0    36.656111\n",
       "dtype: float64"
      ]
     },
     "execution_count": 4,
     "metadata": {},
     "output_type": "execute_result"
    }
   ],
   "source": [
    "# Predict temperature of a made-up situation\n",
    "# The side panels are present without a case frame\n",
    "# Also, both top_intake and top_exhaust fans are present\n",
    "dummy_model.predict({\n",
    "    \"usage\"       : [42],\n",
    "    \"case_under\"  : [0],\n",
    "    \"case_frame\"  : [0],\n",
    "    \"case_cable\"  : [1],\n",
    "    \"case_gpio\"   : [1],\n",
    "    \"top_solid\"   : [0],\n",
    "    \"top_holed\"   : [0],\n",
    "    \"top_intake\"  : [1],\n",
    "    \"top_exhaust\" : [1]\n",
    "})"
   ]
  },
  {
   "cell_type": "markdown",
   "metadata": {},
   "source": [
    "With this technique, we can compare different case components in (hopefully) a more fair way.\n",
    "\n",
    "Let's use the model to simulate temperatures at 100% where only one case component is present.\n",
    "\n",
    "Why simulate with only one case item present? We are trying to get rid of the dependence effect. Unfortunately, we can only do this to the extent that the model coefficients are significantly different from zero. We can't be completely sure how `case_under` and `case_frame` behave."
   ]
  },
  {
   "cell_type": "code",
   "execution_count": 5,
   "metadata": {},
   "outputs": [
    {
     "data": {
      "image/png": "[encoded data removed]",
      "text/plain": [
       "<Figure size 720x432 with 1 Axes>"
      ]
     },
     "metadata": {
      "needs_background": "light"
     },
     "output_type": "display_data"
    }
   ],
   "source": [
    "base_scenario = pd.DataFrame({\n",
    "    \"usage\"       : [50],\n",
    "    \"case_under\"  : [0],\n",
    "    \"case_frame\"  : [0],\n",
    "    \"case_cable\"  : [0],\n",
    "    \"case_gpio\"   : [0],\n",
    "    \"top_solid\"   : [0],\n",
    "    \"top_holed\"   : [0],\n",
    "    \"top_intake\"  : [0],\n",
    "    \"top_exhaust\" : [0]\n",
    "})\n",
    "\n",
    "# Make a list of labels/dummies\n",
    "dummies = [\"case_under\", \"case_frame\", \"case_cable\", \"case_gpio\", \"top_solid\", \"top_holed\", \"top_intake\", \"top_exhaust\"]\n",
    "\n",
    "# Give them colors to use later\n",
    "colors = 2*[\"blue\"] + 2*[\"cyan\"] + 4*[\"green\"]\n",
    "\n",
    "# Create a function to make predictions conveniently\n",
    "def set_true_and_predict(dummy):\n",
    "    scenario = base_scenario.assign()\n",
    "    scenario[dummy] = 1\n",
    "    return(float(dummy_model.predict(scenario)))\n",
    "\n",
    "# Create a dictionary of labels and predictions\n",
    "values = {k:v for k, v in zip(dummies, [set_true_and_predict(x) for x in dummies])}\n",
    "\n",
    "plt.figure(figsize=(10,6))\n",
    "plt.suptitle(\"Predicted mean temperatures; 50% usage\")\n",
    "plt.title(\"(Simulation of only one case component present)\")\n",
    "plt.xlabel(\"Case item\")\n",
    "plt.ylabel(\"Mean temperature °C\")\n",
    "plt.bar(x=values.keys(),\n",
    "        height=values.values(),\n",
    "        color=colors)\n",
    "plt.grid(True)\n",
    "plt.savefig(\"./images/exp1_predicted_means.png\")\n",
    "plt.show()"
   ]
  },
  {
   "cell_type": "code",
   "execution_count": null,
   "metadata": {},
   "outputs": [],
   "source": []
  }
 ],
 "metadata": {
  "kernelspec": {
   "display_name": "Python 3",
   "language": "python",
   "name": "python3"
  },
  "language_info": {
   "codemirror_mode": {
    "name": "ipython",
    "version": 3
   },
   "file_extension": ".py",
   "mimetype": "text/x-python",
   "name": "python",
   "nbconvert_exporter": "python",
   "pygments_lexer": "ipython3",
   "version": "3.8.5"
  }
 },
 "nbformat": 4,
 "nbformat_minor": 4
}
