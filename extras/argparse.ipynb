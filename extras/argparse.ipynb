{
 "cells": [
  {
   "cell_type": "markdown",
   "metadata": {},
   "source": [
    "## argparse demo\n",
    "\n",
    "Here is the example from the `argparse` documentation.\n",
    "\n",
    "https://docs.python.org/3/library/argparse.html"
   ]
  },
  {
   "cell_type": "code",
   "execution_count": 1,
   "metadata": {},
   "outputs": [
    {
     "data": {
      "text/plain": [
       "_StoreConstAction(option_strings=['--sum'], dest='accumulate', nargs=0, const=<built-in function sum>, default=<built-in function max>, type=None, choices=None, help='sum the integers (default: find the max)', metavar=None)"
      ]
     },
     "execution_count": 1,
     "metadata": {},
     "output_type": "execute_result"
    }
   ],
   "source": [
    "import argparse\n",
    "\n",
    "parser = argparse.ArgumentParser(description='Process some integers.')\n",
    "parser.add_argument('integers', metavar='N', type=int, nargs='+',\n",
    "                    help='an integer for the accumulator')\n",
    "parser.add_argument('--sum', dest='accumulate', action='store_const',\n",
    "                    const=sum, default=max,\n",
    "                    help='sum the integers (default: find the max)')"
   ]
  },
  {
   "cell_type": "markdown",
   "metadata": {},
   "source": [
    "\n",
    "Here also is the example used.\n"
   ]
  },
  {
   "cell_type": "code",
   "execution_count": 2,
   "metadata": {},
   "outputs": [
    {
     "data": {
      "text/plain": [
       "Namespace(accumulate=<built-in function sum>, integers=[7, -1, 42])"
      ]
     },
     "execution_count": 2,
     "metadata": {},
     "output_type": "execute_result"
    }
   ],
   "source": [
    "parser.parse_args(['--sum', '7', '-1', '42'])"
   ]
  },
  {
   "cell_type": "markdown",
   "metadata": {},
   "source": [
    "\n",
    "The parser requires a list of strings. Here we can `.split()` a single string to get a usable list.\n"
   ]
  },
  {
   "cell_type": "code",
   "execution_count": 3,
   "metadata": {},
   "outputs": [
    {
     "data": {
      "text/plain": [
       "Namespace(accumulate=<built-in function sum>, integers=[5, 7, -1, 42])"
      ]
     },
     "execution_count": 3,
     "metadata": {},
     "output_type": "execute_result"
    }
   ],
   "source": [
    "parser.parse_args(\"5 7 -1 42 --sum\".split())"
   ]
  },
  {
   "cell_type": "markdown",
   "metadata": {},
   "source": [
    "\n",
    "If we don't use the `--sum` argument, the parser will instead use `--max` for its accumulator function.\n"
   ]
  },
  {
   "cell_type": "code",
   "execution_count": 4,
   "metadata": {},
   "outputs": [
    {
     "data": {
      "text/plain": [
       "Namespace(accumulate=<built-in function max>, integers=[1, 2, 3, 4, 5])"
      ]
     },
     "execution_count": 4,
     "metadata": {},
     "output_type": "execute_result"
    }
   ],
   "source": [
    "parser.parse_args(\"1 2 3 4 5\".split())"
   ]
  },
  {
   "cell_type": "markdown",
   "metadata": {},
   "source": [
    "## Example from pitemp\n",
    "\n",
    "Here is the argparse from the data collection script.\n"
   ]
  },
  {
   "cell_type": "code",
   "execution_count": 5,
   "metadata": {},
   "outputs": [
    {
     "data": {
      "text/plain": [
       "_StoreTrueAction(option_strings=['-y', '--heatsink_sub'], dest='heatsink_sub', nargs=0, const=True, default=False, type=None, choices=None, help='there is a heatsink on the secondary SoC', metavar=None)"
      ]
     },
     "execution_count": 5,
     "metadata": {},
     "output_type": "execute_result"
    }
   ],
   "source": [
    "parser = argparse.ArgumentParser(\n",
    "    description=\"Stress test Raspberry Pi and log temperature\",\n",
    "    epilog=\"\"\"The script will use the --max_threads option to run CPU stress\n",
    "    tests for up to max_threads thread, up until it reaches a total runtime of\n",
    "    --duration minutes. The temperature data will all be logged to a CSV, with\n",
    "    measurements taken every second. The CSV filename itself will depend on the\n",
    "    other arguments, allowing you to separate different testing scenarios into\n",
    "    different files. If a filename already exists, it will be appended to rather\n",
    "    than overwritten.\n",
    "    \"\"\")\n",
    "parser.add_argument(\"file_prefix\", type=str, help=\"name of file to output\")\n",
    "parser.add_argument(\"--duration\", type=int, help='total duration in minutes', default=60)\n",
    "parser.add_argument(\"--max_threads\", type=int, help='max number of threads', default=4)\n",
    "parser.add_argument(\"-a\", \"--case_under\", action=\"store_true\", help=\"the bottom of the case is on\")\n",
    "parser.add_argument(\"-b\", \"--case_frame\", action=\"store_true\", help=\"the case frame is on\")\n",
    "parser.add_argument(\"-c\", \"--case_cable\", action=\"store_true\", help=\"the cable-side panel is on\")\n",
    "parser.add_argument(\"-d\", \"--case_gpio\", action=\"store_true\", help=\"the gpio-side panel is on\")\n",
    "parser.add_argument(\"-m\", \"--top_solid\", action=\"store_true\", help=\"the top panel is on and solid\")\n",
    "parser.add_argument(\"-n\", \"--top_hole\", action=\"store_true\", help=\"the top panel is on and has a fan hole\")\n",
    "parser.add_argument(\"-o\", \"--top_intake\", action=\"store_true\", help=\"there is a fan on the case pulling air in\")\n",
    "parser.add_argument(\"-p\", \"--top_exhaust\", action=\"store_true\", help=\"there is a fan on the case pushing air out\")\n",
    "parser.add_argument(\"-x\", \"--heatsink_main\", action=\"store_true\", help=\"there is a heatsink on the main SoC\")\n",
    "parser.add_argument(\"-y\", \"--heatsink_sub\", action=\"store_true\", help=\"there is a heatsink on the secondary SoC\")"
   ]
  },
  {
   "cell_type": "markdown",
   "metadata": {},
   "source": [
    "\n",
    "When you just use `--help`, `argparse` prints a helpful string.\n",
    "\n",
    "However in this session we need to use `.print_help()` or we'll get an error.\n"
   ]
  },
  {
   "cell_type": "code",
   "execution_count": 6,
   "metadata": {},
   "outputs": [
    {
     "name": "stdout",
     "output_type": "stream",
     "text": [
      "usage: ipykernel_launcher.py [-h] [--duration DURATION]\n",
      "                             [--max_threads MAX_THREADS] [-a] [-b] [-c] [-d]\n",
      "                             [-m] [-n] [-o] [-p] [-x] [-y]\n",
      "                             file_prefix\n",
      "\n",
      "Stress test Raspberry Pi and log temperature\n",
      "\n",
      "positional arguments:\n",
      "  file_prefix           name of file to output\n",
      "\n",
      "optional arguments:\n",
      "  -h, --help            show this help message and exit\n",
      "  --duration DURATION   total duration in minutes\n",
      "  --max_threads MAX_THREADS\n",
      "                        max number of threads\n",
      "  -a, --case_under      the bottom of the case is on\n",
      "  -b, --case_frame      the case frame is on\n",
      "  -c, --case_cable      the cable-side panel is on\n",
      "  -d, --case_gpio       the gpio-side panel is on\n",
      "  -m, --top_solid       the top panel is on and solid\n",
      "  -n, --top_hole        the top panel is on and has a fan hole\n",
      "  -o, --top_intake      there is a fan on the case pulling air in\n",
      "  -p, --top_exhaust     there is a fan on the case pushing air out\n",
      "  -x, --heatsink_main   there is a heatsink on the main SoC\n",
      "  -y, --heatsink_sub    there is a heatsink on the secondary SoC\n",
      "\n",
      "The script will use the --max_threads option to run CPU stress tests for up to\n",
      "max_threads thread, up until it reaches a total runtime of --duration minutes.\n",
      "The temperature data will all be logged to a CSV, with measurements taken\n",
      "every second. The CSV filename itself will depend on the other arguments,\n",
      "allowing you to separate different testing scenarios into different files. If\n",
      "a filename already exists, it will be appended to rather than overwritten.\n"
     ]
    }
   ],
   "source": [
    "parser.print_help()"
   ]
  },
  {
   "cell_type": "markdown",
   "metadata": {},
   "source": [
    "\n",
    "If we don't include he required `file_prefix` argument, we'll get an error, so we'll avoid doing that.\n"
   ]
  },
  {
   "cell_type": "code",
   "execution_count": 7,
   "metadata": {},
   "outputs": [],
   "source": [
    "# Will result in the script terminating with an error\n",
    "# parser.parse_args(\"-abcdopxy --max_threads 4 --duration 120\".split())"
   ]
  },
  {
   "cell_type": "markdown",
   "metadata": {},
   "source": [
    "\n",
    "With the filename set, we get a nice dictionary-like object ot use.\n"
   ]
  },
  {
   "cell_type": "code",
   "execution_count": 8,
   "metadata": {},
   "outputs": [
    {
     "data": {
      "text/plain": [
       "Namespace(case_cable=True, case_frame=True, case_gpio=True, case_under=True, duration=120, file_prefix='test.csv', heatsink_main=True, heatsink_sub=True, max_threads=4, top_exhaust=True, top_hole=False, top_intake=True, top_solid=False)"
      ]
     },
     "execution_count": 8,
     "metadata": {},
     "output_type": "execute_result"
    }
   ],
   "source": [
    "args = parser.parse_args(\"test.csv -abcdopxy --max_threads 4 --duration 120\".split())\n",
    "args"
   ]
  },
  {
   "cell_type": "markdown",
   "metadata": {},
   "source": [
    "\n",
    "We can access the values inside of the `args` object.\n"
   ]
  },
  {
   "cell_type": "code",
   "execution_count": 9,
   "metadata": {},
   "outputs": [
    {
     "name": "stdout",
     "output_type": "stream",
     "text": [
      "args.file_prefix : test.csv\n",
      "args.case_cable  : True\n",
      "args.top_solid   : False\n",
      "args.max_threads : 4\n"
     ]
    }
   ],
   "source": [
    "# Accessing the values in Python\n",
    "print(f\"args.file_prefix : {args.file_prefix}\")\n",
    "print(f\"args.case_cable  : {args.case_cable}\")\n",
    "print(f\"args.top_solid   : {args.top_solid}\")\n",
    "print(f\"args.max_threads : {args.max_threads}\")"
   ]
  },
  {
   "cell_type": "markdown",
   "metadata": {},
   "source": [
    "## Example from GitHub\n",
    "\n",
    "This is an example from the pytorch examples, https://github.com/pytorch/examples/blob/master/mnist/main.py#L74.\n",
    "\n",
    "The `argparse` parser lets you set training parameters, as well as whether to save the trained model.\n"
   ]
  },
  {
   "cell_type": "code",
   "execution_count": 10,
   "metadata": {},
   "outputs": [
    {
     "data": {
      "text/plain": [
       "_StoreTrueAction(option_strings=['--save-model'], dest='save_model', nargs=0, const=True, default=False, type=None, choices=None, help='For Saving the current Model', metavar=None)"
      ]
     },
     "execution_count": 10,
     "metadata": {},
     "output_type": "execute_result"
    }
   ],
   "source": [
    "# Training settings\n",
    "parser = argparse.ArgumentParser(description='PyTorch MNIST Example')\n",
    "parser.add_argument('--batch-size', type=int, default=64, metavar='N',\n",
    "                    help='input batch size for training (default: 64)')\n",
    "parser.add_argument('--test-batch-size', type=int, default=1000, metavar='N',\n",
    "                    help='input batch size for testing (default: 1000)')\n",
    "parser.add_argument('--epochs', type=int, default=14, metavar='N',\n",
    "                    help='number of epochs to train (default: 14)')\n",
    "parser.add_argument('--lr', type=float, default=1.0, metavar='LR',\n",
    "                    help='learning rate (default: 1.0)')\n",
    "parser.add_argument('--gamma', type=float, default=0.7, metavar='M',\n",
    "                    help='Learning rate step gamma (default: 0.7)')\n",
    "parser.add_argument('--no-cuda', action='store_true', default=False,\n",
    "                    help='disables CUDA training')\n",
    "parser.add_argument('--dry-run', action='store_true', default=False,\n",
    "                    help='quickly check a single pass')\n",
    "parser.add_argument('--seed', type=int, default=1, metavar='S',\n",
    "                    help='random seed (default: 1)')\n",
    "parser.add_argument('--log-interval', type=int, default=10, metavar='N',\n",
    "                    help='how many batches to wait before logging training status')\n",
    "parser.add_argument('--save-model', action='store_true', default=False,\n",
    "                    help='For Saving the current Model')"
   ]
  },
  {
   "cell_type": "markdown",
   "metadata": {},
   "source": [
    "\n",
    "Here is what the help gives us. It's quite helpful.\n"
   ]
  },
  {
   "cell_type": "code",
   "execution_count": 11,
   "metadata": {},
   "outputs": [
    {
     "name": "stdout",
     "output_type": "stream",
     "text": [
      "usage: ipykernel_launcher.py [-h] [--batch-size N] [--test-batch-size N]\n",
      "                             [--epochs N] [--lr LR] [--gamma M] [--no-cuda]\n",
      "                             [--dry-run] [--seed S] [--log-interval N]\n",
      "                             [--save-model]\n",
      "\n",
      "PyTorch MNIST Example\n",
      "\n",
      "optional arguments:\n",
      "  -h, --help           show this help message and exit\n",
      "  --batch-size N       input batch size for training (default: 64)\n",
      "  --test-batch-size N  input batch size for testing (default: 1000)\n",
      "  --epochs N           number of epochs to train (default: 14)\n",
      "  --lr LR              learning rate (default: 1.0)\n",
      "  --gamma M            Learning rate step gamma (default: 0.7)\n",
      "  --no-cuda            disables CUDA training\n",
      "  --dry-run            quickly check a single pass\n",
      "  --seed S             random seed (default: 1)\n",
      "  --log-interval N     how many batches to wait before logging training status\n",
      "  --save-model         For Saving the current Model\n"
     ]
    }
   ],
   "source": [
    "# Look at the help\n",
    "parser.print_help()"
   ]
  },
  {
   "cell_type": "markdown",
   "metadata": {},
   "source": [
    "We can run the parse without arguments in order to use the defaults.\n",
    "\n",
    "`argparse` will still set values that Python can access."
   ]
  },
  {
   "cell_type": "code",
   "execution_count": 12,
   "metadata": {},
   "outputs": [
    {
     "data": {
      "text/plain": [
       "Namespace(batch_size=64, dry_run=False, epochs=14, gamma=0.7, log_interval=10, lr=1.0, no_cuda=False, save_model=False, seed=1, test_batch_size=1000)"
      ]
     },
     "execution_count": 12,
     "metadata": {},
     "output_type": "execute_result"
    }
   ],
   "source": [
    "# Run with defaults\n",
    "parser.parse_args(\"\")"
   ]
  },
  {
   "cell_type": "markdown",
   "metadata": {},
   "source": [
    "\n",
    "Using the parser, we can adjust parameters conveniently. All other parameters will use defaults.\n"
   ]
  },
  {
   "cell_type": "code",
   "execution_count": 13,
   "metadata": {},
   "outputs": [
    {
     "data": {
      "text/plain": [
       "Namespace(batch_size=128, dry_run=False, epochs=14, gamma=0.7, log_interval=10, lr=0.1, no_cuda=False, save_model=False, seed=1, test_batch_size=1000)"
      ]
     },
     "execution_count": 13,
     "metadata": {},
     "output_type": "execute_result"
    }
   ],
   "source": [
    "# Use a lower learning rate with a larger batch size\n",
    "parser.parse_args(\"--batch-size 128 --lr 0.1\".split())"
   ]
  },
  {
   "cell_type": "markdown",
   "metadata": {},
   "source": [
    "## Useful things to remember\n",
    "\n",
    "You may find these useful.\n",
    "\n",
    "These are slightly modified examples from the official documentation: https://docs.python.org/3/library/argparse.html\n"
   ]
  },
  {
   "cell_type": "code",
   "execution_count": 14,
   "metadata": {},
   "outputs": [],
   "source": [
    "parser = argparse.ArgumentParser()"
   ]
  },
  {
   "cell_type": "markdown",
   "metadata": {},
   "source": [
    "\n",
    "You can explicitely declare the variable type of arguments.\n"
   ]
  },
  {
   "cell_type": "code",
   "execution_count": 15,
   "metadata": {},
   "outputs": [
    {
     "data": {
      "text/plain": [
       "_StoreAction(option_strings=[], dest='games', nargs=None, const=None, default=None, type=<class 'int'>, choices=None, help=None, metavar=None)"
      ]
     },
     "execution_count": 15,
     "metadata": {},
     "output_type": "execute_result"
    }
   ],
   "source": [
    "# Argument types\n",
    "# https://docs.python.org/3/library/argparse.html#type\n",
    "parser.add_argument('games', type=int)"
   ]
  },
  {
   "cell_type": "markdown",
   "metadata": {},
   "source": [
    "\n",
    "You can limit valid choices to a list.\n"
   ]
  },
  {
   "cell_type": "code",
   "execution_count": 16,
   "metadata": {},
   "outputs": [
    {
     "data": {
      "text/plain": [
       "_StoreAction(option_strings=[], dest='move', nargs=None, const=None, default=None, type=None, choices=['rock', 'paper', 'scissors'], help=None, metavar=None)"
      ]
     },
     "execution_count": 16,
     "metadata": {},
     "output_type": "execute_result"
    }
   ],
   "source": [
    "# Choices\n",
    "# https://docs.python.org/3/library/argparse.html#choices\n",
    "parser.add_argument('move', choices=['rock', 'paper', 'scissors'])"
   ]
  },
  {
   "cell_type": "markdown",
   "metadata": {},
   "source": [
    "\n",
    "You can make an argument mandatory, throwing an error if it isn't set.\n",
    "\n",
    "**Note**: positional arguments (like `games` above) are mandatory by default.\n"
   ]
  },
  {
   "cell_type": "code",
   "execution_count": 17,
   "metadata": {},
   "outputs": [
    {
     "data": {
      "text/plain": [
       "_StoreAction(option_strings=['--required'], dest='required', nargs=None, const=None, default=None, type=None, choices=None, help=None, metavar=None)"
      ]
     },
     "execution_count": 17,
     "metadata": {},
     "output_type": "execute_result"
    }
   ],
   "source": [
    "# Required arguments\n",
    "# https://docs.python.org/3/library/argparse.html#required\n",
    "parser.add_argument('--required', required=True)"
   ]
  },
  {
   "cell_type": "markdown",
   "metadata": {},
   "source": [
    "\n",
    "`metavar` will add placeholders to your help.\n"
   ]
  },
  {
   "cell_type": "code",
   "execution_count": 18,
   "metadata": {},
   "outputs": [
    {
     "data": {
      "text/plain": [
       "_StoreAction(option_strings=['--bar'], dest='bar', nargs=None, const=None, default=None, type=None, choices=None, help=None, metavar='YYY')"
      ]
     },
     "execution_count": 18,
     "metadata": {},
     "output_type": "execute_result"
    }
   ],
   "source": [
    "# metavars\n",
    "# https://docs.python.org/3/library/argparse.html#metavar\n",
    "parser.add_argument('--foo', metavar='XXX')\n",
    "parser.add_argument('--bar', metavar='YYY')"
   ]
  },
  {
   "cell_type": "markdown",
   "metadata": {},
   "source": [
    "\n",
    "There are actions you can use with arguments. A useful one is `store_true`, which you can use to set true/false flags. If you want to set a boolean variable to false, use `store_false`.\n"
   ]
  },
  {
   "cell_type": "code",
   "execution_count": 19,
   "metadata": {},
   "outputs": [
    {
     "data": {
      "text/plain": [
       "_StoreTrueAction(option_strings=['--verbose'], dest='verbose', nargs=0, const=True, default=False, type=None, choices=None, help=None, metavar=None)"
      ]
     },
     "execution_count": 19,
     "metadata": {},
     "output_type": "execute_result"
    }
   ],
   "source": [
    "# actions (ex: store_true)\n",
    "# https://docs.python.org/3/library/argparse.html#action\n",
    "parser.add_argument('--verbose', action='store_true')"
   ]
  },
  {
   "cell_type": "markdown",
   "metadata": {},
   "source": [
    "\n",
    "Last but not least, the `help` argument is a great way to document what the options do.\n",
    "\n",
    "They're also useful for people reading your code.\n"
   ]
  },
  {
   "cell_type": "code",
   "execution_count": 20,
   "metadata": {},
   "outputs": [
    {
     "data": {
      "text/plain": [
       "_StoreTrueAction(option_strings=['--helpful'], dest='helpful', nargs=0, const=True, default=False, type=None, choices=None, help='foo the bars before frobbling', metavar=None)"
      ]
     },
     "execution_count": 20,
     "metadata": {},
     "output_type": "execute_result"
    }
   ],
   "source": [
    "# help\n",
    "# https://docs.python.org/3/library/argparse.html#help\n",
    "parser.add_argument('--helpful', action='store_true',\n",
    "                    help='foo the bars before frobbling')"
   ]
  },
  {
   "cell_type": "markdown",
   "metadata": {},
   "source": [
    "\n",
    "Here is what this looks like.\n"
   ]
  },
  {
   "cell_type": "code",
   "execution_count": 21,
   "metadata": {},
   "outputs": [
    {
     "name": "stdout",
     "output_type": "stream",
     "text": [
      "usage: ipykernel_launcher.py [-h] --required REQUIRED [--foo XXX] [--bar YYY]\n",
      "                             [--verbose] [--helpful]\n",
      "                             games {rock,paper,scissors}\n",
      "\n",
      "positional arguments:\n",
      "  games\n",
      "  {rock,paper,scissors}\n",
      "\n",
      "optional arguments:\n",
      "  -h, --help            show this help message and exit\n",
      "  --required REQUIRED\n",
      "  --foo XXX\n",
      "  --bar YYY\n",
      "  --verbose\n",
      "  --helpful             foo the bars before frobbling\n"
     ]
    }
   ],
   "source": [
    "parser.print_help()"
   ]
  },
  {
   "cell_type": "markdown",
   "metadata": {},
   "source": [
    "\n",
    "Here is the example in action.\n"
   ]
  },
  {
   "cell_type": "code",
   "execution_count": 22,
   "metadata": {},
   "outputs": [
    {
     "data": {
      "text/plain": [
       "Namespace(bar='456', foo='123', games=3, helpful=False, move='rock', required='5', verbose=True)"
      ]
     },
     "execution_count": 22,
     "metadata": {},
     "output_type": "execute_result"
    }
   ],
   "source": [
    "parser.parse_args(\"3 rock --required 5 --foo 123 --bar 456 --verbose\".split())"
   ]
  },
  {
   "cell_type": "markdown",
   "metadata": {},
   "source": [
    "## Ideas\n",
    "\n",
    "### User friendliness\n",
    "\n",
    "Make full use of all the options in `argparse` to make your script easy to use. Include a good description of what your script does and explain each option with `help=`.\n",
    "\n",
    "However, remember that `argparse` assumes that the use is familiar with the command line. Less practiced users won't be comfortable starting scripts this way.\n",
    "\n",
    "You could create a shortcut for users with some options set, so that they don't have to use `argparse` directly.\n",
    "\n",
    "### Automation\n",
    "\n",
    "In practice you can use an `argparse`-enabled script to chain operations together. For example, \n",
    "\n",
    "```\n",
    "> main.py --lr 1.0 --save-model && main.py --lr 0.1 --save-model && main.py --lr 0.01 --save-model\n",
    "```\n",
    "\n",
    "would run these commands one after the other. (In Linux of course.)"
   ]
  },
  {
   "cell_type": "code",
   "execution_count": null,
   "metadata": {},
   "outputs": [],
   "source": []
  }
 ],
 "metadata": {
  "kernelspec": {
   "display_name": "Python 3",
   "language": "python",
   "name": "python3"
  },
  "language_info": {
   "codemirror_mode": {
    "name": "ipython",
    "version": 3
   },
   "file_extension": ".py",
   "mimetype": "text/x-python",
   "name": "python",
   "nbconvert_exporter": "python",
   "pygments_lexer": "ipython3",
   "version": "3.8.5"
  }
 },
 "nbformat": 4,
 "nbformat_minor": 4
}
