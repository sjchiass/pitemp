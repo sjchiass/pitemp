{
 "cells": [
  {
   "cell_type": "code",
   "execution_count": null,
   "metadata": {},
   "outputs": [],
   "source": [
    "import os\n",
    "import re\n",
    "import pandas as pd\n",
    "import statsmodels.api as sm\n",
    "import statsmodels.formula.api as smf\n",
    "import matplotlib.pyplot as plt"
   ]
  },
  {
   "cell_type": "markdown",
   "metadata": {},
   "source": [
    "## Future plan\n",
    "\n",
    "I'm going to generate new data that is better for time series analysis. Rather than randomly set usage and see the temperatures, I'm going to get the CPU to max temp while logging, then let it cool down to minimum temp while logging. This data should give a good estimate of how much temperature cases dissipate. For example, a case without a top may drop 1C per second when in cooldown.\n",
    "\n",
    "I am not sure that I'll use ARIMA. It may not be necessary here.\n",
    "\n",
    "Below is just some code I've been using to observe data collection schemes."
   ]
  },
  {
   "cell_type": "code",
   "execution_count": null,
   "metadata": {},
   "outputs": [],
   "source": [
    "raw_files = [x for x in os.listdir(\"./data\") if re.match(r\"^timeseries_break_1111010011_m80_w60_i600_d60.csv$\", x)]\n",
    "\n",
    "raw_files\n",
    "\n",
    "raw = pd.concat([pd.read_csv(f\"./data/{x}\").assign(filename=x) for x in raw_files])\n",
    "\n",
    "raw\n",
    "\n",
    "def dummify_filename(filename):\n",
    "    # The filenames have an underscore\n",
    "    # Split on _ and keep the second half\n",
    "    code = filename.split(\"_\")[1]\n",
    "    # The string will still have .csv at the end\n",
    "    # Split on . and keep the first half\n",
    "    code = filename.split(\".\")[0]\n",
    "    # Get rid of non-digit characters\n",
    "    code = re.sub(r\"\\D\", \"\", code)\n",
    "    # Break the code into a list of 0/1 integers\n",
    "    flags = [int(x) for x in list(code)]\n",
    "    # List the dummy labels\n",
    "    keys = [\"case_under\",\n",
    "            \"case_frame\",\n",
    "            \"case_cable\",\n",
    "            \"case_gpio\",\n",
    "            \"top_solid\",\n",
    "            \"top_holed\",\n",
    "            \"top_intake\",\n",
    "            \"top_exhaust\",\n",
    "            \"heatsink_main\",\n",
    "            \"heatsink_sub\"\n",
    "           ]\n",
    "    # Output into a dictionary, which pandas can transform into a dataframe\n",
    "    values = {k:v for k,v in zip(keys, flags)}\n",
    "    values[\"filename\"] = filename\n",
    "    return values\n",
    "\n",
    "# Only get unique filenames\n",
    "# Feed them into the dummify function\n",
    "flags = pd.DataFrame([dummify_filename(x) for x in raw.filename.drop_duplicates()])\n",
    "\n",
    "flags\n",
    "\n",
    "# The .join() method joins on indexes\n",
    "df_flagged = raw.merge(flags, on = \"filename\")\n",
    "\n",
    "# .drop() the filename, with axis=1 for columns\n",
    "df_flagged = df_flagged.drop(\"filename\", axis=1)\n",
    "\n",
    "df_flagged\n",
    "\n",
    "df_dt = df_flagged\n",
    "\n",
    "# Convert the datetime column to a datetime dtype\n",
    "# This works fine since the datetime is already in a standard format\n",
    "df_dt[\"datetime\"] = pd.to_datetime(df_dt[\"datetime\"])\n",
    "df_dt[\"datetime\"] = pd.DatetimeIndex(df_dt[\"datetime\"]).round(\"s\")\n",
    "\n",
    "# Set datetime as the index\n",
    "df_dt = df_dt.set_index(\"datetime\")\n",
    "\n",
    "df_dt"
   ]
  },
  {
   "cell_type": "code",
   "execution_count": null,
   "metadata": {},
   "outputs": [],
   "source": [
    "plt.plot(df_dt.index, df_dt.temp)\n",
    "plt.show()"
   ]
  },
  {
   "cell_type": "markdown",
   "metadata": {},
   "source": [
    "### Make case_under and case_frame mandatory\n",
    "\n",
    "It's unrealistic to model the frame and the bottom of the case. It's unlikely that you would forego these in real-life. What you're really interested in is whether you have to take off the side panel or which direction to have the fan in."
   ]
  },
  {
   "cell_type": "code",
   "execution_count": null,
   "metadata": {},
   "outputs": [],
   "source": [
    "# Get rid of obs without case_under and case_frame\n",
    "# We can then assume they're always there\n",
    "df_filtered = df\n",
    "\n",
    "df_filtered = (\n",
    "    df_filtered\n",
    "    .loc[lambda df: df.case_under == 1]\n",
    "    .loc[lambda df: df.case_frame == 1]\n",
    "    .drop([\"case_under\", \"case_frame\"], axis = 1)\n",
    ")\n",
    "\n",
    "df_filtered"
   ]
  },
  {
   "cell_type": "code",
   "execution_count": null,
   "metadata": {},
   "outputs": [],
   "source": []
  }
 ],
 "metadata": {
  "kernelspec": {
   "display_name": "Python 3",
   "language": "python",
   "name": "python3"
  },
  "language_info": {
   "codemirror_mode": {
    "name": "ipython",
    "version": 3
   },
   "file_extension": ".py",
   "mimetype": "text/x-python",
   "name": "python",
   "nbconvert_exporter": "python",
   "pygments_lexer": "ipython3",
   "version": "3.7.3"
  }
 },
 "nbformat": 4,
 "nbformat_minor": 4
}
